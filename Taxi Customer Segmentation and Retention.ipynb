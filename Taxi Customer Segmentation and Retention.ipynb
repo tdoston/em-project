{
 "cells": [
  {
   "cell_type": "markdown",
   "metadata": {},
   "source": [
    "# Taxi Customer Segmentation and Retention\n",
    "\n",
    "### <font color='blue'> Keywords: Data Science, Machine Learning, Segmentation, RFM</font>\n",
    "* By Doston Toshbekov "
   ]
  },
  {
   "cell_type": "markdown",
   "metadata": {},
   "source": [
    "<img src=\"./Images/taxi-title_image.jpg\" align=\"center\" width=800 hight=768/>"
   ]
  },
  {
   "cell_type": "markdown",
   "metadata": {},
   "source": [
    "### 1. Importing libraries "
   ]
  },
  {
   "cell_type": "code",
   "execution_count": 4,
   "metadata": {},
   "outputs": [
    {
     "data": {
      "application/javascript": [
       "IPython.notebook.set_autosave_interval(120000)"
      ]
     },
     "metadata": {},
     "output_type": "display_data"
    },
    {
     "name": "stdout",
     "output_type": "stream",
     "text": [
      "Autosaving every 120 seconds\n"
     ]
    }
   ],
   "source": [
    "%autosave 120"
   ]
  },
  {
   "cell_type": "code",
   "execution_count": 6,
   "metadata": {},
   "outputs": [],
   "source": [
    "import pandas as pd\n",
    "from datetime import datetime\n",
    "import math\n",
    "import numpy as np\n",
    "\n",
    "import matplotlib.pyplot as plt\n",
    "import matplotlib.mlab as mlab\n",
    "%matplotlib inline"
   ]
  },
  {
   "cell_type": "code",
   "execution_count": 7,
   "metadata": {},
   "outputs": [],
   "source": [
    "def side_by_side(*objs, **kwds):\n",
    "    from pandas.io.formats.printing import adjoin\n",
    "    space = kwds.get('space', 4)\n",
    "    reprs = [repr(obj).split('\\n') for obj in objs]\n",
    "    print (adjoin(space, *reprs))\n",
    "    print()\n",
    "    return"
   ]
  },
  {
   "cell_type": "markdown",
   "metadata": {},
   "source": [
    "### 2. Data Extracting "
   ]
  },
  {
   "cell_type": "code",
   "execution_count": 9,
   "metadata": {},
   "outputs": [
    {
     "name": "stdout",
     "output_type": "stream",
     "text": [
      "Computing time takes 0:00:02.368663\n"
     ]
    }
   ],
   "source": [
    "start = datetime.now()\n",
    "\n",
    "ordersDF = pd.read_csv('./Data/orders.csv', encoding = 'UTF-8', low_memory = False)\n",
    "\n",
    "print(\"Computing time takes %s\" %(datetime.now()-start))"
   ]
  },
  {
   "cell_type": "code",
   "execution_count": 12,
   "metadata": {},
   "outputs": [],
   "source": [
    "ordersDF.drop([\"Unnamed: 0\"], axis=1, inplace = True)"
   ]
  },
  {
   "cell_type": "markdown",
   "metadata": {},
   "source": [
    "### 3. Data Exploring "
   ]
  },
  {
   "cell_type": "code",
   "execution_count": 13,
   "metadata": {},
   "outputs": [
    {
     "data": {
      "text/html": [
       "<div>\n",
       "<style scoped>\n",
       "    .dataframe tbody tr th:only-of-type {\n",
       "        vertical-align: middle;\n",
       "    }\n",
       "\n",
       "    .dataframe tbody tr th {\n",
       "        vertical-align: top;\n",
       "    }\n",
       "\n",
       "    .dataframe thead th {\n",
       "        text-align: right;\n",
       "    }\n",
       "</style>\n",
       "<table border=\"1\" class=\"dataframe\">\n",
       "  <thead>\n",
       "    <tr style=\"text-align: right;\">\n",
       "      <th></th>\n",
       "      <th>order_id</th>\n",
       "      <th>passenger_id</th>\n",
       "      <th>driver_id</th>\n",
       "      <th>date</th>\n",
       "      <th>passenger_take_time</th>\n",
       "      <th>finish_time</th>\n",
       "      <th>requested_time</th>\n",
       "      <th>travel_cost</th>\n",
       "    </tr>\n",
       "  </thead>\n",
       "  <tbody>\n",
       "    <tr>\n",
       "      <th>0</th>\n",
       "      <td>292589508</td>\n",
       "      <td>216171.0</td>\n",
       "      <td>5104.0</td>\n",
       "      <td>2019-01-01 00:01:43</td>\n",
       "      <td>2019-01-01 00:15:04</td>\n",
       "      <td>2019-01-01 00:33:15</td>\n",
       "      <td>2020-10-12 00:09:13</td>\n",
       "      <td>0.003529</td>\n",
       "    </tr>\n",
       "    <tr>\n",
       "      <th>1</th>\n",
       "      <td>302332088</td>\n",
       "      <td>48165.0</td>\n",
       "      <td>6282.0</td>\n",
       "      <td>2019-01-01 00:01:54</td>\n",
       "      <td>2019-01-01 00:05:41</td>\n",
       "      <td>2019-01-01 00:22:53</td>\n",
       "      <td>2020-10-12 00:02:19</td>\n",
       "      <td>0.002900</td>\n",
       "    </tr>\n",
       "    <tr>\n",
       "      <th>2</th>\n",
       "      <td>224418541</td>\n",
       "      <td>136760.0</td>\n",
       "      <td>4900.0</td>\n",
       "      <td>2019-01-01 00:01:56</td>\n",
       "      <td>2019-01-01 00:11:44</td>\n",
       "      <td>2019-01-01 00:30:32</td>\n",
       "      <td>2020-10-12 00:06:22</td>\n",
       "      <td>0.002843</td>\n",
       "    </tr>\n",
       "    <tr>\n",
       "      <th>3</th>\n",
       "      <td>211378159</td>\n",
       "      <td>67348.0</td>\n",
       "      <td>4966.0</td>\n",
       "      <td>2019-01-01 00:02:05</td>\n",
       "      <td>2019-01-01 00:16:39</td>\n",
       "      <td>2019-01-01 00:36:06</td>\n",
       "      <td>2020-10-12 00:11:59</td>\n",
       "      <td>0.002859</td>\n",
       "    </tr>\n",
       "    <tr>\n",
       "      <th>4</th>\n",
       "      <td>291238090</td>\n",
       "      <td>152109.0</td>\n",
       "      <td>4990.0</td>\n",
       "      <td>2019-01-01 00:02:41</td>\n",
       "      <td>2019-01-01 00:07:34</td>\n",
       "      <td>2019-01-01 00:26:06</td>\n",
       "      <td>2020-10-12 00:04:33</td>\n",
       "      <td>0.002882</td>\n",
       "    </tr>\n",
       "  </tbody>\n",
       "</table>\n",
       "</div>"
      ],
      "text/plain": [
       "    order_id  passenger_id  driver_id                 date  \\\n",
       "0  292589508      216171.0     5104.0  2019-01-01 00:01:43   \n",
       "1  302332088       48165.0     6282.0  2019-01-01 00:01:54   \n",
       "2  224418541      136760.0     4900.0  2019-01-01 00:01:56   \n",
       "3  211378159       67348.0     4966.0  2019-01-01 00:02:05   \n",
       "4  291238090      152109.0     4990.0  2019-01-01 00:02:41   \n",
       "\n",
       "   passenger_take_time          finish_time       requested_time  travel_cost  \n",
       "0  2019-01-01 00:15:04  2019-01-01 00:33:15  2020-10-12 00:09:13     0.003529  \n",
       "1  2019-01-01 00:05:41  2019-01-01 00:22:53  2020-10-12 00:02:19     0.002900  \n",
       "2  2019-01-01 00:11:44  2019-01-01 00:30:32  2020-10-12 00:06:22     0.002843  \n",
       "3  2019-01-01 00:16:39  2019-01-01 00:36:06  2020-10-12 00:11:59     0.002859  \n",
       "4  2019-01-01 00:07:34  2019-01-01 00:26:06  2020-10-12 00:04:33     0.002882  "
      ]
     },
     "execution_count": 13,
     "metadata": {},
     "output_type": "execute_result"
    }
   ],
   "source": [
    "ordersDF.head()"
   ]
  },
  {
   "cell_type": "code",
   "execution_count": 14,
   "metadata": {},
   "outputs": [
    {
     "data": {
      "text/plain": [
       "(967953, 8)"
      ]
     },
     "execution_count": 14,
     "metadata": {},
     "output_type": "execute_result"
    }
   ],
   "source": [
    "ordersDF.shape "
   ]
  },
  {
   "cell_type": "code",
   "execution_count": 15,
   "metadata": {},
   "outputs": [
    {
     "name": "stdout",
     "output_type": "stream",
     "text": [
      "order_id                    0    order_id               967953\n",
      "passenger_id           289419    passenger_id           678534\n",
      "driver_id              289419    driver_id              678534\n",
      "date                   289419    date                   678534\n",
      "passenger_take_time    289419    passenger_take_time    678534\n",
      "finish_time            289419    finish_time            678534\n",
      "requested_time         289419    requested_time         678534\n",
      "travel_cost                 0    travel_cost            967953\n",
      "dtype: int64                     dtype: int64                 \n",
      "\n"
     ]
    }
   ],
   "source": [
    "side_by_side(ordersDF.isnull().sum(), ordersDF.count())"
   ]
  },
  {
   "cell_type": "code",
   "execution_count": 16,
   "metadata": {},
   "outputs": [
    {
     "name": "stdout",
     "output_type": "stream",
     "text": [
      "<class 'pandas.core.frame.DataFrame'>\n",
      "RangeIndex: 967953 entries, 0 to 967952\n",
      "Data columns (total 8 columns):\n",
      " #   Column               Non-Null Count   Dtype  \n",
      "---  ------               --------------   -----  \n",
      " 0   order_id             967953 non-null  int64  \n",
      " 1   passenger_id         678534 non-null  float64\n",
      " 2   driver_id            678534 non-null  float64\n",
      " 3   date                 678534 non-null  object \n",
      " 4   passenger_take_time  678534 non-null  object \n",
      " 5   finish_time          678534 non-null  object \n",
      " 6   requested_time       678534 non-null  object \n",
      " 7   travel_cost          967953 non-null  float64\n",
      "dtypes: float64(3), int64(1), object(4)\n",
      "memory usage: 59.1+ MB\n"
     ]
    }
   ],
   "source": [
    "ordersDF.info()"
   ]
  },
  {
   "cell_type": "markdown",
   "metadata": {},
   "source": [
    "### 4. Data Cleaning "
   ]
  },
  {
   "cell_type": "code",
   "execution_count": 18,
   "metadata": {},
   "outputs": [],
   "source": [
    "# Droping rows that contains null \n",
    "ordersDF.dropna(inplace=True)"
   ]
  },
  {
   "cell_type": "markdown",
   "metadata": {},
   "source": [
    "### 5. Data Preprocessing"
   ]
  },
  {
   "cell_type": "code",
   "execution_count": 19,
   "metadata": {},
   "outputs": [
    {
     "name": "stdout",
     "output_type": "stream",
     "text": [
      "Computing time takes 0:00:00.029893\n"
     ]
    }
   ],
   "source": [
    "start = datetime.now()\n",
    "ordersDF['passenger_id'] = ordersDF['passenger_id'].astype('int')\n",
    "ordersDF['driver_id'] = ordersDF['driver_id'].astype('int')\n",
    "ordersDF.shape\n",
    "print(\"Computing time takes %s\" %(datetime.now()-start))"
   ]
  },
  {
   "cell_type": "code",
   "execution_count": 20,
   "metadata": {},
   "outputs": [
    {
     "name": "stdout",
     "output_type": "stream",
     "text": [
      "Computing time takes 0:00:02.027573\n"
     ]
    }
   ],
   "source": [
    "start = datetime.now()\n",
    "ordersDF['date'] = ordersDF['date'].astype('datetime64[ns]')\n",
    "ordersDF['passenger_take_time'] = ordersDF['passenger_take_time'].astype('datetime64[ns]')\n",
    "ordersDF['finish_time'] = ordersDF['finish_time'].astype('datetime64[ns]')\n",
    "ordersDF['requested_time'] = ordersDF['requested_time'].astype('datetime64[ns]')\n",
    "ordersDF.reset_index(drop=True, inplace=True);\n",
    "print(\"Computing time takes %s\" %(datetime.now()-start))"
   ]
  },
  {
   "cell_type": "code",
   "execution_count": 21,
   "metadata": {},
   "outputs": [
    {
     "name": "stdout",
     "output_type": "stream",
     "text": [
      "<class 'pandas.core.frame.DataFrame'>\n",
      "RangeIndex: 678534 entries, 0 to 678533\n",
      "Data columns (total 8 columns):\n",
      " #   Column               Non-Null Count   Dtype         \n",
      "---  ------               --------------   -----         \n",
      " 0   order_id             678534 non-null  int64         \n",
      " 1   passenger_id         678534 non-null  int32         \n",
      " 2   driver_id            678534 non-null  int32         \n",
      " 3   date                 678534 non-null  datetime64[ns]\n",
      " 4   passenger_take_time  678534 non-null  datetime64[ns]\n",
      " 5   finish_time          678534 non-null  datetime64[ns]\n",
      " 6   requested_time       678534 non-null  datetime64[ns]\n",
      " 7   travel_cost          678534 non-null  float64       \n",
      "dtypes: datetime64[ns](4), float64(1), int32(2), int64(1)\n",
      "memory usage: 36.2 MB\n"
     ]
    }
   ],
   "source": [
    "ordersDF.info()"
   ]
  },
  {
   "cell_type": "code",
   "execution_count": 24,
   "metadata": {},
   "outputs": [
    {
     "name": "stdout",
     "output_type": "stream",
     "text": [
      "Computing time takes 0:00:05.460047\n"
     ]
    }
   ],
   "source": [
    "orderIntervalDF = ordersDF[['passenger_id', 'date', \n",
    "                                 'finish_time']].sort_values(by=['passenger_id'])\n",
    "start = datetime.now()\n",
    "orderIntervalDF['orderInterval'] = orderIntervalDF.groupby(['passenger_id'])['finish_time'].diff()\n",
    "print(\"Computing time takes %s\" %(datetime.now()-start))"
   ]
  },
  {
   "cell_type": "code",
   "execution_count": 25,
   "metadata": {},
   "outputs": [
    {
     "name": "stdout",
     "output_type": "stream",
     "text": [
      "order_id               0    order_id               678534\n",
      "passenger_id           0    passenger_id           678534\n",
      "driver_id              0    driver_id              678534\n",
      "date                   0    date                   678534\n",
      "passenger_take_time    0    passenger_take_time    678534\n",
      "finish_time            0    finish_time            678534\n",
      "requested_time         0    requested_time         678534\n",
      "travel_cost            0    travel_cost            678534\n",
      "dtype: int64                dtype: int64                 \n",
      "\n"
     ]
    }
   ],
   "source": [
    "side_by_side(ordersDF.isnull().sum(), ordersDF.count())"
   ]
  },
  {
   "cell_type": "markdown",
   "metadata": {},
   "source": [
    "### 6. Data Visualization "
   ]
  },
  {
   "cell_type": "code",
   "execution_count": 26,
   "metadata": {},
   "outputs": [],
   "source": [
    "ordersDF.set_index('date',inplace=True)"
   ]
  },
  {
   "cell_type": "code",
   "execution_count": 27,
   "metadata": {},
   "outputs": [
    {
     "data": {
      "text/html": [
       "<div>\n",
       "<style scoped>\n",
       "    .dataframe tbody tr th:only-of-type {\n",
       "        vertical-align: middle;\n",
       "    }\n",
       "\n",
       "    .dataframe tbody tr th {\n",
       "        vertical-align: top;\n",
       "    }\n",
       "\n",
       "    .dataframe thead th {\n",
       "        text-align: right;\n",
       "    }\n",
       "</style>\n",
       "<table border=\"1\" class=\"dataframe\">\n",
       "  <thead>\n",
       "    <tr style=\"text-align: right;\">\n",
       "      <th></th>\n",
       "      <th>order_id</th>\n",
       "      <th>passenger_id</th>\n",
       "      <th>driver_id</th>\n",
       "      <th>passenger_take_time</th>\n",
       "      <th>finish_time</th>\n",
       "      <th>requested_time</th>\n",
       "      <th>travel_cost</th>\n",
       "    </tr>\n",
       "    <tr>\n",
       "      <th>date</th>\n",
       "      <th></th>\n",
       "      <th></th>\n",
       "      <th></th>\n",
       "      <th></th>\n",
       "      <th></th>\n",
       "      <th></th>\n",
       "      <th></th>\n",
       "    </tr>\n",
       "  </thead>\n",
       "  <tbody>\n",
       "    <tr>\n",
       "      <th>2019-05-31 23:59:27</th>\n",
       "      <td>195494572</td>\n",
       "      <td>77474</td>\n",
       "      <td>8069</td>\n",
       "      <td>2019-06-01 00:05:22</td>\n",
       "      <td>2019-06-01 00:09:51</td>\n",
       "      <td>2020-10-12 00:03:10</td>\n",
       "      <td>0.000865</td>\n",
       "    </tr>\n",
       "    <tr>\n",
       "      <th>2019-05-31 23:59:32</th>\n",
       "      <td>242115097</td>\n",
       "      <td>88920</td>\n",
       "      <td>2272</td>\n",
       "      <td>2019-06-01 00:03:04</td>\n",
       "      <td>2019-06-01 00:30:24</td>\n",
       "      <td>2020-10-12 00:02:41</td>\n",
       "      <td>0.001535</td>\n",
       "    </tr>\n",
       "    <tr>\n",
       "      <th>2019-05-31 23:59:40</th>\n",
       "      <td>212121169</td>\n",
       "      <td>216276</td>\n",
       "      <td>4729</td>\n",
       "      <td>2019-06-01 00:06:40</td>\n",
       "      <td>2019-06-01 00:23:28</td>\n",
       "      <td>2020-10-12 00:04:04</td>\n",
       "      <td>0.002106</td>\n",
       "    </tr>\n",
       "    <tr>\n",
       "      <th>2019-05-31 23:59:46</th>\n",
       "      <td>205487480</td>\n",
       "      <td>49160</td>\n",
       "      <td>5584</td>\n",
       "      <td>2019-06-01 00:05:54</td>\n",
       "      <td>2019-06-01 00:35:20</td>\n",
       "      <td>2020-10-12 00:05:21</td>\n",
       "      <td>0.003172</td>\n",
       "    </tr>\n",
       "    <tr>\n",
       "      <th>2019-05-31 23:59:47</th>\n",
       "      <td>311159471</td>\n",
       "      <td>134964</td>\n",
       "      <td>4811</td>\n",
       "      <td>2019-06-01 00:06:28</td>\n",
       "      <td>2019-06-01 00:11:21</td>\n",
       "      <td>2020-10-12 23:59:47</td>\n",
       "      <td>0.000993</td>\n",
       "    </tr>\n",
       "  </tbody>\n",
       "</table>\n",
       "</div>"
      ],
      "text/plain": [
       "                      order_id  passenger_id  driver_id passenger_take_time  \\\n",
       "date                                                                          \n",
       "2019-05-31 23:59:27  195494572         77474       8069 2019-06-01 00:05:22   \n",
       "2019-05-31 23:59:32  242115097         88920       2272 2019-06-01 00:03:04   \n",
       "2019-05-31 23:59:40  212121169        216276       4729 2019-06-01 00:06:40   \n",
       "2019-05-31 23:59:46  205487480         49160       5584 2019-06-01 00:05:54   \n",
       "2019-05-31 23:59:47  311159471        134964       4811 2019-06-01 00:06:28   \n",
       "\n",
       "                            finish_time      requested_time  travel_cost  \n",
       "date                                                                      \n",
       "2019-05-31 23:59:27 2019-06-01 00:09:51 2020-10-12 00:03:10     0.000865  \n",
       "2019-05-31 23:59:32 2019-06-01 00:30:24 2020-10-12 00:02:41     0.001535  \n",
       "2019-05-31 23:59:40 2019-06-01 00:23:28 2020-10-12 00:04:04     0.002106  \n",
       "2019-05-31 23:59:46 2019-06-01 00:35:20 2020-10-12 00:05:21     0.003172  \n",
       "2019-05-31 23:59:47 2019-06-01 00:11:21 2020-10-12 23:59:47     0.000993  "
      ]
     },
     "execution_count": 27,
     "metadata": {},
     "output_type": "execute_result"
    }
   ],
   "source": [
    "ordersDF.tail()"
   ]
  },
  {
   "cell_type": "code",
   "execution_count": 28,
   "metadata": {},
   "outputs": [
    {
     "data": {
      "text/html": [
       "<div>\n",
       "<style scoped>\n",
       "    .dataframe tbody tr th:only-of-type {\n",
       "        vertical-align: middle;\n",
       "    }\n",
       "\n",
       "    .dataframe tbody tr th {\n",
       "        vertical-align: top;\n",
       "    }\n",
       "\n",
       "    .dataframe thead th {\n",
       "        text-align: right;\n",
       "    }\n",
       "</style>\n",
       "<table border=\"1\" class=\"dataframe\">\n",
       "  <thead>\n",
       "    <tr style=\"text-align: right;\">\n",
       "      <th></th>\n",
       "      <th>count</th>\n",
       "      <th>mean</th>\n",
       "      <th>std</th>\n",
       "      <th>min</th>\n",
       "      <th>25%</th>\n",
       "      <th>50%</th>\n",
       "      <th>75%</th>\n",
       "      <th>max</th>\n",
       "    </tr>\n",
       "  </thead>\n",
       "  <tbody>\n",
       "    <tr>\n",
       "      <th>order_id</th>\n",
       "      <td>678534.0</td>\n",
       "      <td>2.566204e+08</td>\n",
       "      <td>6.519020e+07</td>\n",
       "      <td>100026.000000</td>\n",
       "      <td>2.136215e+08</td>\n",
       "      <td>2.549323e+08</td>\n",
       "      <td>3.012138e+08</td>\n",
       "      <td>7.753546e+08</td>\n",
       "    </tr>\n",
       "    <tr>\n",
       "      <th>passenger_id</th>\n",
       "      <td>678534.0</td>\n",
       "      <td>1.259987e+05</td>\n",
       "      <td>7.372098e+04</td>\n",
       "      <td>641.000000</td>\n",
       "      <td>6.157200e+04</td>\n",
       "      <td>1.252830e+05</td>\n",
       "      <td>1.892240e+05</td>\n",
       "      <td>2.713740e+05</td>\n",
       "    </tr>\n",
       "    <tr>\n",
       "      <th>driver_id</th>\n",
       "      <td>678534.0</td>\n",
       "      <td>4.968057e+03</td>\n",
       "      <td>1.797886e+03</td>\n",
       "      <td>23.000000</td>\n",
       "      <td>4.178000e+03</td>\n",
       "      <td>5.283000e+03</td>\n",
       "      <td>6.380000e+03</td>\n",
       "      <td>8.074000e+03</td>\n",
       "    </tr>\n",
       "    <tr>\n",
       "      <th>travel_cost</th>\n",
       "      <td>678534.0</td>\n",
       "      <td>1.879611e-03</td>\n",
       "      <td>4.992158e-03</td>\n",
       "      <td>0.000249</td>\n",
       "      <td>1.163632e-03</td>\n",
       "      <td>1.581653e-03</td>\n",
       "      <td>2.171637e-03</td>\n",
       "      <td>9.002341e-01</td>\n",
       "    </tr>\n",
       "  </tbody>\n",
       "</table>\n",
       "</div>"
      ],
      "text/plain": [
       "                 count          mean           std            min  \\\n",
       "order_id      678534.0  2.566204e+08  6.519020e+07  100026.000000   \n",
       "passenger_id  678534.0  1.259987e+05  7.372098e+04     641.000000   \n",
       "driver_id     678534.0  4.968057e+03  1.797886e+03      23.000000   \n",
       "travel_cost   678534.0  1.879611e-03  4.992158e-03       0.000249   \n",
       "\n",
       "                       25%           50%           75%           max  \n",
       "order_id      2.136215e+08  2.549323e+08  3.012138e+08  7.753546e+08  \n",
       "passenger_id  6.157200e+04  1.252830e+05  1.892240e+05  2.713740e+05  \n",
       "driver_id     4.178000e+03  5.283000e+03  6.380000e+03  8.074000e+03  \n",
       "travel_cost   1.163632e-03  1.581653e-03  2.171637e-03  9.002341e-01  "
      ]
     },
     "execution_count": 28,
     "metadata": {},
     "output_type": "execute_result"
    }
   ],
   "source": [
    "ordersDF.describe().T"
   ]
  },
  {
   "cell_type": "markdown",
   "metadata": {},
   "source": [
    "### Calculate number of riderships for clients (1st metric)"
   ]
  },
  {
   "cell_type": "code",
   "execution_count": 34,
   "metadata": {},
   "outputs": [
    {
     "data": {
      "text/html": [
       "<div>\n",
       "<style scoped>\n",
       "    .dataframe tbody tr th:only-of-type {\n",
       "        vertical-align: middle;\n",
       "    }\n",
       "\n",
       "    .dataframe tbody tr th {\n",
       "        vertical-align: top;\n",
       "    }\n",
       "\n",
       "    .dataframe thead th {\n",
       "        text-align: right;\n",
       "    }\n",
       "</style>\n",
       "<table border=\"1\" class=\"dataframe\">\n",
       "  <thead>\n",
       "    <tr style=\"text-align: right;\">\n",
       "      <th></th>\n",
       "      <th>passenger_id</th>\n",
       "      <th>ride</th>\n",
       "    </tr>\n",
       "  </thead>\n",
       "  <tbody>\n",
       "    <tr>\n",
       "      <th>0</th>\n",
       "      <td>83721</td>\n",
       "      <td>667</td>\n",
       "    </tr>\n",
       "    <tr>\n",
       "      <th>1</th>\n",
       "      <td>79155</td>\n",
       "      <td>582</td>\n",
       "    </tr>\n",
       "    <tr>\n",
       "      <th>2</th>\n",
       "      <td>90122</td>\n",
       "      <td>575</td>\n",
       "    </tr>\n",
       "    <tr>\n",
       "      <th>3</th>\n",
       "      <td>7383</td>\n",
       "      <td>571</td>\n",
       "    </tr>\n",
       "    <tr>\n",
       "      <th>4</th>\n",
       "      <td>191423</td>\n",
       "      <td>553</td>\n",
       "    </tr>\n",
       "  </tbody>\n",
       "</table>\n",
       "</div>"
      ],
      "text/plain": [
       "   passenger_id  ride\n",
       "0         83721   667\n",
       "1         79155   582\n",
       "2         90122   575\n",
       "3          7383   571\n",
       "4        191423   553"
      ]
     },
     "execution_count": 34,
     "metadata": {},
     "output_type": "execute_result"
    }
   ],
   "source": [
    "ridePassengerDF = ordersDF.passenger_id.value_counts()\n",
    "ridePassengerDF = ridePassengerDF.reset_index()\n",
    "\n",
    "ridePassengerDF.columns = ['passenger_id', 'ride']\n",
    "\n",
    "ridePassengerDF.head()"
   ]
  },
  {
   "cell_type": "code",
   "execution_count": 35,
   "metadata": {},
   "outputs": [],
   "source": [
    "cumSumPassengerDF = ((ridePassengerDF.ride/ridePassengerDF.ride.sum())*100).cumsum()\n",
    "\n",
    "ridePassengerDF['cumRiders%'] = cumSumPassengerDF.reset_index(drop=True)"
   ]
  },
  {
   "cell_type": "code",
   "execution_count": 36,
   "metadata": {},
   "outputs": [
    {
     "data": {
      "text/html": [
       "<div>\n",
       "<style scoped>\n",
       "    .dataframe tbody tr th:only-of-type {\n",
       "        vertical-align: middle;\n",
       "    }\n",
       "\n",
       "    .dataframe tbody tr th {\n",
       "        vertical-align: top;\n",
       "    }\n",
       "\n",
       "    .dataframe thead th {\n",
       "        text-align: right;\n",
       "    }\n",
       "</style>\n",
       "<table border=\"1\" class=\"dataframe\">\n",
       "  <thead>\n",
       "    <tr style=\"text-align: right;\">\n",
       "      <th></th>\n",
       "      <th>passenger_id</th>\n",
       "      <th>ride</th>\n",
       "      <th>cumRiders%</th>\n",
       "    </tr>\n",
       "  </thead>\n",
       "  <tbody>\n",
       "    <tr>\n",
       "      <th>0</th>\n",
       "      <td>83721</td>\n",
       "      <td>667</td>\n",
       "      <td>0.098300</td>\n",
       "    </tr>\n",
       "    <tr>\n",
       "      <th>1</th>\n",
       "      <td>79155</td>\n",
       "      <td>582</td>\n",
       "      <td>0.184073</td>\n",
       "    </tr>\n",
       "    <tr>\n",
       "      <th>2</th>\n",
       "      <td>90122</td>\n",
       "      <td>575</td>\n",
       "      <td>0.268815</td>\n",
       "    </tr>\n",
       "    <tr>\n",
       "      <th>3</th>\n",
       "      <td>7383</td>\n",
       "      <td>571</td>\n",
       "      <td>0.352967</td>\n",
       "    </tr>\n",
       "    <tr>\n",
       "      <th>4</th>\n",
       "      <td>191423</td>\n",
       "      <td>553</td>\n",
       "      <td>0.434466</td>\n",
       "    </tr>\n",
       "  </tbody>\n",
       "</table>\n",
       "</div>"
      ],
      "text/plain": [
       "   passenger_id  ride  cumRiders%\n",
       "0         83721   667    0.098300\n",
       "1         79155   582    0.184073\n",
       "2         90122   575    0.268815\n",
       "3          7383   571    0.352967\n",
       "4        191423   553    0.434466"
      ]
     },
     "execution_count": 36,
     "metadata": {},
     "output_type": "execute_result"
    }
   ],
   "source": [
    "ridePassengerDF.head()"
   ]
  },
  {
   "cell_type": "code",
   "execution_count": 37,
   "metadata": {},
   "outputs": [],
   "source": [
    "totalCostbyPassengerDF = ordersDF.groupby('passenger_id')['travel_cost'].sum()\n",
    "\n",
    "totalCostbyPassengerDF = totalCostbyPassengerDF.reset_index()"
   ]
  },
  {
   "cell_type": "code",
   "execution_count": 38,
   "metadata": {},
   "outputs": [],
   "source": [
    "passengerDF = pd.merge(ridePassengerDF, totalCostbyPassengerDF , on='passenger_id', how='outer')"
   ]
  },
  {
   "cell_type": "code",
   "execution_count": 40,
   "metadata": {},
   "outputs": [],
   "source": [
    "passengerDF['cumCost%'] = ((passengerDF['travel_cost']/(passengerDF['travel_cost'].sum())*100)).cumsum()"
   ]
  },
  {
   "cell_type": "code",
   "execution_count": 41,
   "metadata": {},
   "outputs": [
    {
     "data": {
      "text/html": [
       "<div>\n",
       "<style scoped>\n",
       "    .dataframe tbody tr th:only-of-type {\n",
       "        vertical-align: middle;\n",
       "    }\n",
       "\n",
       "    .dataframe tbody tr th {\n",
       "        vertical-align: top;\n",
       "    }\n",
       "\n",
       "    .dataframe thead th {\n",
       "        text-align: right;\n",
       "    }\n",
       "</style>\n",
       "<table border=\"1\" class=\"dataframe\">\n",
       "  <thead>\n",
       "    <tr style=\"text-align: right;\">\n",
       "      <th></th>\n",
       "      <th>passenger_id</th>\n",
       "      <th>ride</th>\n",
       "      <th>cumRiders%</th>\n",
       "      <th>travel_cost</th>\n",
       "      <th>cumCost%</th>\n",
       "    </tr>\n",
       "  </thead>\n",
       "  <tbody>\n",
       "    <tr>\n",
       "      <th>0</th>\n",
       "      <td>83721</td>\n",
       "      <td>667</td>\n",
       "      <td>0.098300</td>\n",
       "      <td>0.846404</td>\n",
       "      <td>0.066365</td>\n",
       "    </tr>\n",
       "    <tr>\n",
       "      <th>1</th>\n",
       "      <td>79155</td>\n",
       "      <td>582</td>\n",
       "      <td>0.184073</td>\n",
       "      <td>1.413835</td>\n",
       "      <td>0.177221</td>\n",
       "    </tr>\n",
       "    <tr>\n",
       "      <th>2</th>\n",
       "      <td>90122</td>\n",
       "      <td>575</td>\n",
       "      <td>0.268815</td>\n",
       "      <td>1.042600</td>\n",
       "      <td>0.258969</td>\n",
       "    </tr>\n",
       "    <tr>\n",
       "      <th>3</th>\n",
       "      <td>7383</td>\n",
       "      <td>571</td>\n",
       "      <td>0.352967</td>\n",
       "      <td>2.590996</td>\n",
       "      <td>0.462124</td>\n",
       "    </tr>\n",
       "    <tr>\n",
       "      <th>4</th>\n",
       "      <td>191423</td>\n",
       "      <td>553</td>\n",
       "      <td>0.434466</td>\n",
       "      <td>0.978668</td>\n",
       "      <td>0.538859</td>\n",
       "    </tr>\n",
       "  </tbody>\n",
       "</table>\n",
       "</div>"
      ],
      "text/plain": [
       "   passenger_id  ride  cumRiders%  travel_cost  cumCost%\n",
       "0         83721   667    0.098300     0.846404  0.066365\n",
       "1         79155   582    0.184073     1.413835  0.177221\n",
       "2         90122   575    0.268815     1.042600  0.258969\n",
       "3          7383   571    0.352967     2.590996  0.462124\n",
       "4        191423   553    0.434466     0.978668  0.538859"
      ]
     },
     "execution_count": 41,
     "metadata": {},
     "output_type": "execute_result"
    }
   ],
   "source": [
    "passengerDF.head()"
   ]
  },
  {
   "cell_type": "markdown",
   "metadata": {},
   "source": [
    "### Passanger ridership"
   ]
  },
  {
   "cell_type": "code",
   "execution_count": 42,
   "metadata": {},
   "outputs": [
    {
     "data": {
      "image/png": "[encoded data removed]",
      "text/plain": [
       "<Figure size 1152x432 with 2 Axes>"
      ]
     },
     "metadata": {
      "needs_background": "light"
     },
     "output_type": "display_data"
    }
   ],
   "source": [
    "fig, [ax1, ax2] = plt.subplots(1, 2, figsize=(16,6))\n",
    "passengerDF['cumRiders%'].plot(title=\"Total Unique Passanger: \" + \n",
    "                                          str(ridePassengerDF.shape[0]) +\n",
    "                                          \"\\n Ridership Cumulative Distrubution\", ax=ax1)\n",
    "passengerDF['cumCost%'].plot(title=\"Total Unique Passanger: \" + \n",
    "                                          str(ridePassengerDF.shape[0]) +\n",
    "                                          \"\\n Taxi Fare Cumulative Distrubution\", ax =ax2)\n",
    "ax1.set(xlabel=\"Number of Passangers\", ylabel=\"Percentage of Total Riderships\")\n",
    "ax2.set(xlabel=\"Number of Passangers\", ylabel=\"Percentage of Total Costs\")\n",
    "plt.show();"
   ]
  },
  {
   "cell_type": "markdown",
   "metadata": {},
   "source": [
    "## Customer Segmentation - RFM Model "
   ]
  },
  {
   "cell_type": "markdown",
   "metadata": {},
   "source": [
    "#### Calculating RFM score methodology: \n",
    "* Calculating Recency = number of days since last purchase \n",
    "* Calculating Frequency = number of purchases during the studied period \n",
    "* Calculating Monetary = total amount of purchases made during the studied period "
   ]
  },
  {
   "cell_type": "code",
   "execution_count": 43,
   "metadata": {},
   "outputs": [
    {
     "name": "stdout",
     "output_type": "stream",
     "text": [
      "Timestamp('2019-01-01 00:05:41')    Timestamp('2019-06-01 00:12:08')\n",
      "\n"
     ]
    }
   ],
   "source": [
    "side_by_side(ordersDF.passenger_take_time.min(), ordersDF.passenger_take_time.max())\n",
    "TransactionEndingDate = ordersDF.passenger_take_time.max()"
   ]
  },
  {
   "cell_type": "code",
   "execution_count": 44,
   "metadata": {},
   "outputs": [
    {
     "data": {
      "text/plain": [
       "order_id                        int64\n",
       "passenger_id                    int32\n",
       "driver_id                       int32\n",
       "passenger_take_time    datetime64[ns]\n",
       "finish_time            datetime64[ns]\n",
       "requested_time         datetime64[ns]\n",
       "travel_cost                   float64\n",
       "dtype: object"
      ]
     },
     "execution_count": 44,
     "metadata": {},
     "output_type": "execute_result"
    }
   ],
   "source": [
    "ordersDF.dtypes"
   ]
  },
  {
   "cell_type": "code",
   "execution_count": 111,
   "metadata": {},
   "outputs": [
    {
     "name": "stdout",
     "output_type": "stream",
     "text": [
      "   PassengerID     LatestOrderDate  Recency    count    40060.000000        \n",
      "0          641 2019-05-30 16:43:04       31    mean      1083.042287        \n",
      "1          710 2019-01-11 07:33:56     3376    std       1025.205446        \n",
      "2          765 2019-05-31 21:42:42        2    min          0.000000        \n",
      "3          864 2019-05-31 18:29:17        5    25%        202.000000        \n",
      "4          903 2019-05-21 16:34:46      247    50%        778.000000        \n",
      "                                               75%       1693.000000        \n",
      "                                               max       3623.000000        \n",
      "                                               Name: Recency, dtype: float64\n",
      "\n"
     ]
    }
   ],
   "source": [
    "RecencyDF = ordersDF.groupby(['passenger_id'])['passenger_take_time'].max().reset_index()\n",
    "RecencyDF.columns = ['PassengerID', 'LatestOrderDate']\n",
    "RecencyDF['Recency'] = ((ordersDF.passenger_take_time.max() - RecencyDF['LatestOrderDate'])/\n",
    "                        np.timedelta64(1, 'h')).astype(int)\n",
    "side_by_side(RecencyDF.head(), RecencyDF.Recency.describe())"
   ]
  },
  {
   "cell_type": "code",
   "execution_count": 112,
   "metadata": {},
   "outputs": [
    {
     "data": {
      "text/html": [
       "<div>\n",
       "<style scoped>\n",
       "    .dataframe tbody tr th:only-of-type {\n",
       "        vertical-align: middle;\n",
       "    }\n",
       "\n",
       "    .dataframe tbody tr th {\n",
       "        vertical-align: top;\n",
       "    }\n",
       "\n",
       "    .dataframe thead th {\n",
       "        text-align: right;\n",
       "    }\n",
       "</style>\n",
       "<table border=\"1\" class=\"dataframe\">\n",
       "  <thead>\n",
       "    <tr style=\"text-align: right;\">\n",
       "      <th></th>\n",
       "      <th>PassengerID</th>\n",
       "      <th>LatestOrderDate</th>\n",
       "      <th>Recency</th>\n",
       "    </tr>\n",
       "  </thead>\n",
       "  <tbody>\n",
       "    <tr>\n",
       "      <th>0</th>\n",
       "      <td>641</td>\n",
       "      <td>2019-05-30 16:43:04</td>\n",
       "      <td>31</td>\n",
       "    </tr>\n",
       "    <tr>\n",
       "      <th>1</th>\n",
       "      <td>710</td>\n",
       "      <td>2019-01-11 07:33:56</td>\n",
       "      <td>3376</td>\n",
       "    </tr>\n",
       "  </tbody>\n",
       "</table>\n",
       "</div>"
      ],
      "text/plain": [
       "   PassengerID     LatestOrderDate  Recency\n",
       "0          641 2019-05-30 16:43:04       31\n",
       "1          710 2019-01-11 07:33:56     3376"
      ]
     },
     "execution_count": 112,
     "metadata": {},
     "output_type": "execute_result"
    }
   ],
   "source": [
    "RecencyDF.head(2)"
   ]
  },
  {
   "cell_type": "code",
   "execution_count": 113,
   "metadata": {},
   "outputs": [
    {
     "data": {
      "image/png": "[encoded data removed]",
      "text/plain": [
       "<Figure size 864x288 with 1 Axes>"
      ]
     },
     "metadata": {
      "needs_background": "light"
     },
     "output_type": "display_data"
    }
   ],
   "source": [
    "ax = RecencyDF['Recency'].hist(figsize=(12,4), bins=20);\n",
    "ax.set_xlabel(\"Recency in hours - Clients\")\n",
    "plt.show()"
   ]
  },
  {
   "cell_type": "code",
   "execution_count": 114,
   "metadata": {},
   "outputs": [],
   "source": [
    "PassengerFreq = ordersDF[['passenger_id', 'passenger_take_time']].groupby(\"passenger_id\").count().reset_index()\n",
    "PassengerFreq.columns=['PassengerID', 'Frequency']"
   ]
  },
  {
   "cell_type": "code",
   "execution_count": 115,
   "metadata": {},
   "outputs": [
    {
     "data": {
      "text/html": [
       "<div>\n",
       "<style scoped>\n",
       "    .dataframe tbody tr th:only-of-type {\n",
       "        vertical-align: middle;\n",
       "    }\n",
       "\n",
       "    .dataframe tbody tr th {\n",
       "        vertical-align: top;\n",
       "    }\n",
       "\n",
       "    .dataframe thead th {\n",
       "        text-align: right;\n",
       "    }\n",
       "</style>\n",
       "<table border=\"1\" class=\"dataframe\">\n",
       "  <thead>\n",
       "    <tr style=\"text-align: right;\">\n",
       "      <th></th>\n",
       "      <th>PassengerID</th>\n",
       "      <th>Frequency</th>\n",
       "    </tr>\n",
       "  </thead>\n",
       "  <tbody>\n",
       "    <tr>\n",
       "      <th>0</th>\n",
       "      <td>641</td>\n",
       "      <td>211</td>\n",
       "    </tr>\n",
       "    <tr>\n",
       "      <th>1</th>\n",
       "      <td>710</td>\n",
       "      <td>1</td>\n",
       "    </tr>\n",
       "  </tbody>\n",
       "</table>\n",
       "</div>"
      ],
      "text/plain": [
       "   PassengerID  Frequency\n",
       "0          641        211\n",
       "1          710          1"
      ]
     },
     "execution_count": 115,
     "metadata": {},
     "output_type": "execute_result"
    }
   ],
   "source": [
    "PassengerFreq.head(2)"
   ]
  },
  {
   "cell_type": "code",
   "execution_count": 116,
   "metadata": {},
   "outputs": [
    {
     "data": {
      "image/png": "[encoded data removed]",
      "text/plain": [
       "<Figure size 864x288 with 1 Axes>"
      ]
     },
     "metadata": {
      "needs_background": "light"
     },
     "output_type": "display_data"
    }
   ],
   "source": [
    "ax = PassengerFreq['Frequency'].hist(figsize=(12,4), bins=20);\n",
    "ax.set_xlabel(\"Frequency in hours - Clients\")\n",
    "plt.show()"
   ]
  },
  {
   "cell_type": "code",
   "execution_count": 117,
   "metadata": {},
   "outputs": [
    {
     "name": "stdout",
     "output_type": "stream",
     "text": [
      "Total Taxi Fare within The Given Transactions Time Period: SOM = 1,275.38\n"
     ]
    }
   ],
   "source": [
    "MonetaryStatisticsDF = ordersDF.groupby('passenger_id')['travel_cost'].aggregate([np.sum, np.mean, np.min, np.max])\n",
    "MonetaryStatisticsDF = MonetaryStatisticsDF.reset_index()\n",
    "MonetaryStatisticsDF.columns = ['PassengerID', 'Monetary', 'MeanSpending', 'MinSpending','MaxSpending']\n",
    "print ('Total Taxi Fare within The Given Transactions Time Period: SOM = {:,.2f}'.\n",
    "       format(ordersDF['travel_cost'].sum()))"
   ]
  },
  {
   "cell_type": "code",
   "execution_count": 118,
   "metadata": {},
   "outputs": [
    {
     "data": {
      "text/html": [
       "<div>\n",
       "<style scoped>\n",
       "    .dataframe tbody tr th:only-of-type {\n",
       "        vertical-align: middle;\n",
       "    }\n",
       "\n",
       "    .dataframe tbody tr th {\n",
       "        vertical-align: top;\n",
       "    }\n",
       "\n",
       "    .dataframe thead th {\n",
       "        text-align: right;\n",
       "    }\n",
       "</style>\n",
       "<table border=\"1\" class=\"dataframe\">\n",
       "  <thead>\n",
       "    <tr style=\"text-align: right;\">\n",
       "      <th></th>\n",
       "      <th>PassengerID</th>\n",
       "      <th>Monetary</th>\n",
       "      <th>MeanSpending</th>\n",
       "      <th>MinSpending</th>\n",
       "      <th>MaxSpending</th>\n",
       "    </tr>\n",
       "  </thead>\n",
       "  <tbody>\n",
       "    <tr>\n",
       "      <th>0</th>\n",
       "      <td>641</td>\n",
       "      <td>0.350676</td>\n",
       "      <td>0.001662</td>\n",
       "      <td>0.000391</td>\n",
       "      <td>0.004642</td>\n",
       "    </tr>\n",
       "    <tr>\n",
       "      <th>1</th>\n",
       "      <td>710</td>\n",
       "      <td>0.002142</td>\n",
       "      <td>0.002142</td>\n",
       "      <td>0.002142</td>\n",
       "      <td>0.002142</td>\n",
       "    </tr>\n",
       "    <tr>\n",
       "      <th>2</th>\n",
       "      <td>765</td>\n",
       "      <td>0.795949</td>\n",
       "      <td>0.001960</td>\n",
       "      <td>0.000508</td>\n",
       "      <td>0.013809</td>\n",
       "    </tr>\n",
       "    <tr>\n",
       "      <th>3</th>\n",
       "      <td>864</td>\n",
       "      <td>0.089271</td>\n",
       "      <td>0.001332</td>\n",
       "      <td>0.000615</td>\n",
       "      <td>0.004574</td>\n",
       "    </tr>\n",
       "    <tr>\n",
       "      <th>4</th>\n",
       "      <td>903</td>\n",
       "      <td>0.003093</td>\n",
       "      <td>0.001546</td>\n",
       "      <td>0.001507</td>\n",
       "      <td>0.001586</td>\n",
       "    </tr>\n",
       "  </tbody>\n",
       "</table>\n",
       "</div>"
      ],
      "text/plain": [
       "   PassengerID  Monetary  MeanSpending  MinSpending  MaxSpending\n",
       "0          641  0.350676      0.001662     0.000391     0.004642\n",
       "1          710  0.002142      0.002142     0.002142     0.002142\n",
       "2          765  0.795949      0.001960     0.000508     0.013809\n",
       "3          864  0.089271      0.001332     0.000615     0.004574\n",
       "4          903  0.003093      0.001546     0.001507     0.001586"
      ]
     },
     "execution_count": 118,
     "metadata": {},
     "output_type": "execute_result"
    }
   ],
   "source": [
    "MonetaryStatisticsDF.head()"
   ]
  },
  {
   "cell_type": "code",
   "execution_count": 119,
   "metadata": {},
   "outputs": [
    {
     "data": {
      "image/png": "[encoded data removed]",
      "text/plain": [
       "<Figure size 864x288 with 1 Axes>"
      ]
     },
     "metadata": {
      "needs_background": "light"
     },
     "output_type": "display_data"
    }
   ],
   "source": [
    "ax = MonetaryStatisticsDF['Monetary'].hist(figsize=(12,4), bins=20);\n",
    "ax.set_xlabel(\"Total Spending - Clients\")\n",
    "plt.show()"
   ]
  },
  {
   "cell_type": "code",
   "execution_count": 120,
   "metadata": {},
   "outputs": [],
   "source": [
    "passengerRFMsDF = pd.merge(RecencyDF, PassengerFreq, on='PassengerID', how='outer') \n",
    "passengerRFMsDF = pd.merge(passengerRFMsDF, PassengerFreq, on='PassengerID', how='outer')\n",
    "passengerRFMsDF = pd.merge(passengerRFMsDF, MonetaryStatisticsDF, on='PassengerID', how='outer')\n",
    "del RecencyDF, MonetaryStatisticsDF, PassengerFreq"
   ]
  },
  {
   "cell_type": "code",
   "execution_count": 121,
   "metadata": {},
   "outputs": [
    {
     "data": {
      "text/html": [
       "<div>\n",
       "<style scoped>\n",
       "    .dataframe tbody tr th:only-of-type {\n",
       "        vertical-align: middle;\n",
       "    }\n",
       "\n",
       "    .dataframe tbody tr th {\n",
       "        vertical-align: top;\n",
       "    }\n",
       "\n",
       "    .dataframe thead th {\n",
       "        text-align: right;\n",
       "    }\n",
       "</style>\n",
       "<table border=\"1\" class=\"dataframe\">\n",
       "  <thead>\n",
       "    <tr style=\"text-align: right;\">\n",
       "      <th></th>\n",
       "      <th>PassengerID</th>\n",
       "      <th>Recency</th>\n",
       "      <th>Frequency_x</th>\n",
       "      <th>Frequency_y</th>\n",
       "      <th>Monetary</th>\n",
       "      <th>MeanSpending</th>\n",
       "      <th>MinSpending</th>\n",
       "      <th>MaxSpending</th>\n",
       "    </tr>\n",
       "  </thead>\n",
       "  <tbody>\n",
       "    <tr>\n",
       "      <th>count</th>\n",
       "      <td>40060.000000</td>\n",
       "      <td>40060.000000</td>\n",
       "      <td>40060.000000</td>\n",
       "      <td>40060.000000</td>\n",
       "      <td>40060.000000</td>\n",
       "      <td>40060.000000</td>\n",
       "      <td>40060.000000</td>\n",
       "      <td>40060.000000</td>\n",
       "    </tr>\n",
       "    <tr>\n",
       "      <th>mean</th>\n",
       "      <td>152897.522391</td>\n",
       "      <td>1083.042287</td>\n",
       "      <td>16.937943</td>\n",
       "      <td>16.937943</td>\n",
       "      <td>0.031837</td>\n",
       "      <td>0.001988</td>\n",
       "      <td>0.001339</td>\n",
       "      <td>0.003683</td>\n",
       "    </tr>\n",
       "    <tr>\n",
       "      <th>std</th>\n",
       "      <td>79121.826012</td>\n",
       "      <td>1025.205446</td>\n",
       "      <td>38.499897</td>\n",
       "      <td>38.499897</td>\n",
       "      <td>0.077475</td>\n",
       "      <td>0.002891</td>\n",
       "      <td>0.000946</td>\n",
       "      <td>0.020065</td>\n",
       "    </tr>\n",
       "    <tr>\n",
       "      <th>min</th>\n",
       "      <td>641.000000</td>\n",
       "      <td>0.000000</td>\n",
       "      <td>1.000000</td>\n",
       "      <td>1.000000</td>\n",
       "      <td>0.000251</td>\n",
       "      <td>0.000251</td>\n",
       "      <td>0.000249</td>\n",
       "      <td>0.000251</td>\n",
       "    </tr>\n",
       "    <tr>\n",
       "      <th>25%</th>\n",
       "      <td>84679.500000</td>\n",
       "      <td>202.000000</td>\n",
       "      <td>1.000000</td>\n",
       "      <td>1.000000</td>\n",
       "      <td>0.002587</td>\n",
       "      <td>0.001382</td>\n",
       "      <td>0.000743</td>\n",
       "      <td>0.001777</td>\n",
       "    </tr>\n",
       "    <tr>\n",
       "      <th>50%</th>\n",
       "      <td>160445.000000</td>\n",
       "      <td>778.000000</td>\n",
       "      <td>4.000000</td>\n",
       "      <td>4.000000</td>\n",
       "      <td>0.007338</td>\n",
       "      <td>0.001756</td>\n",
       "      <td>0.001082</td>\n",
       "      <td>0.002550</td>\n",
       "    </tr>\n",
       "    <tr>\n",
       "      <th>75%</th>\n",
       "      <td>227090.250000</td>\n",
       "      <td>1693.000000</td>\n",
       "      <td>14.000000</td>\n",
       "      <td>14.000000</td>\n",
       "      <td>0.026166</td>\n",
       "      <td>0.002260</td>\n",
       "      <td>0.001626</td>\n",
       "      <td>0.003755</td>\n",
       "    </tr>\n",
       "    <tr>\n",
       "      <th>max</th>\n",
       "      <td>271374.000000</td>\n",
       "      <td>3623.000000</td>\n",
       "      <td>667.000000</td>\n",
       "      <td>667.000000</td>\n",
       "      <td>2.590996</td>\n",
       "      <td>0.450664</td>\n",
       "      <td>0.017327</td>\n",
       "      <td>0.900234</td>\n",
       "    </tr>\n",
       "  </tbody>\n",
       "</table>\n",
       "</div>"
      ],
      "text/plain": [
       "         PassengerID       Recency   Frequency_x   Frequency_y      Monetary  \\\n",
       "count   40060.000000  40060.000000  40060.000000  40060.000000  40060.000000   \n",
       "mean   152897.522391   1083.042287     16.937943     16.937943      0.031837   \n",
       "std     79121.826012   1025.205446     38.499897     38.499897      0.077475   \n",
       "min       641.000000      0.000000      1.000000      1.000000      0.000251   \n",
       "25%     84679.500000    202.000000      1.000000      1.000000      0.002587   \n",
       "50%    160445.000000    778.000000      4.000000      4.000000      0.007338   \n",
       "75%    227090.250000   1693.000000     14.000000     14.000000      0.026166   \n",
       "max    271374.000000   3623.000000    667.000000    667.000000      2.590996   \n",
       "\n",
       "       MeanSpending   MinSpending   MaxSpending  \n",
       "count  40060.000000  40060.000000  40060.000000  \n",
       "mean       0.001988      0.001339      0.003683  \n",
       "std        0.002891      0.000946      0.020065  \n",
       "min        0.000251      0.000249      0.000251  \n",
       "25%        0.001382      0.000743      0.001777  \n",
       "50%        0.001756      0.001082      0.002550  \n",
       "75%        0.002260      0.001626      0.003755  \n",
       "max        0.450664      0.017327      0.900234  "
      ]
     },
     "execution_count": 121,
     "metadata": {},
     "output_type": "execute_result"
    },
    {
     "data": {
      "image/png": "[encoded data removed]",
      "text/plain": [
       "<Figure size 1440x720 with 9 Axes>"
      ]
     },
     "metadata": {
      "needs_background": "light"
     },
     "output_type": "display_data"
    }
   ],
   "source": [
    "passengerRFMsDF.hist(figsize=(20,10));passengerRFMsDF.describe()"
   ]
  },
  {
   "cell_type": "code",
   "execution_count": 122,
   "metadata": {},
   "outputs": [],
   "source": [
    "passengerRFM = passengerRFMsDF "
   ]
  },
  {
   "cell_type": "markdown",
   "metadata": {},
   "source": [
    "### Correlation RFM"
   ]
  },
  {
   "cell_type": "code",
   "execution_count": 123,
   "metadata": {},
   "outputs": [],
   "source": [
    "passengerRFM.drop([\"LatestOrderDate\", \"Frequency_y\", \"MeanSpending\", \"MinSpending\", \"MaxSpending\"], axis=1, inplace=True) "
   ]
  },
  {
   "cell_type": "code",
   "execution_count": 124,
   "metadata": {},
   "outputs": [
    {
     "data": {
      "text/html": [
       "<div>\n",
       "<style scoped>\n",
       "    .dataframe tbody tr th:only-of-type {\n",
       "        vertical-align: middle;\n",
       "    }\n",
       "\n",
       "    .dataframe tbody tr th {\n",
       "        vertical-align: top;\n",
       "    }\n",
       "\n",
       "    .dataframe thead th {\n",
       "        text-align: right;\n",
       "    }\n",
       "</style>\n",
       "<table border=\"1\" class=\"dataframe\">\n",
       "  <thead>\n",
       "    <tr style=\"text-align: right;\">\n",
       "      <th></th>\n",
       "      <th>PassengerID</th>\n",
       "      <th>Recency</th>\n",
       "      <th>Frequency_x</th>\n",
       "      <th>Monetary</th>\n",
       "    </tr>\n",
       "  </thead>\n",
       "  <tbody>\n",
       "    <tr>\n",
       "      <th>0</th>\n",
       "      <td>641</td>\n",
       "      <td>31</td>\n",
       "      <td>211</td>\n",
       "      <td>0.350676</td>\n",
       "    </tr>\n",
       "    <tr>\n",
       "      <th>1</th>\n",
       "      <td>710</td>\n",
       "      <td>3376</td>\n",
       "      <td>1</td>\n",
       "      <td>0.002142</td>\n",
       "    </tr>\n",
       "    <tr>\n",
       "      <th>2</th>\n",
       "      <td>765</td>\n",
       "      <td>2</td>\n",
       "      <td>406</td>\n",
       "      <td>0.795949</td>\n",
       "    </tr>\n",
       "    <tr>\n",
       "      <th>3</th>\n",
       "      <td>864</td>\n",
       "      <td>5</td>\n",
       "      <td>67</td>\n",
       "      <td>0.089271</td>\n",
       "    </tr>\n",
       "    <tr>\n",
       "      <th>4</th>\n",
       "      <td>903</td>\n",
       "      <td>247</td>\n",
       "      <td>2</td>\n",
       "      <td>0.003093</td>\n",
       "    </tr>\n",
       "  </tbody>\n",
       "</table>\n",
       "</div>"
      ],
      "text/plain": [
       "   PassengerID  Recency  Frequency_x  Monetary\n",
       "0          641       31          211  0.350676\n",
       "1          710     3376            1  0.002142\n",
       "2          765        2          406  0.795949\n",
       "3          864        5           67  0.089271\n",
       "4          903      247            2  0.003093"
      ]
     },
     "execution_count": 124,
     "metadata": {},
     "output_type": "execute_result"
    }
   ],
   "source": [
    "passengerRFM.head()"
   ]
  },
  {
   "cell_type": "code",
   "execution_count": 125,
   "metadata": {},
   "outputs": [
    {
     "data": {
      "text/plain": [
       "<matplotlib.axes._subplots.AxesSubplot at 0x1c5527bd190>"
      ]
     },
     "execution_count": 125,
     "metadata": {},
     "output_type": "execute_result"
    },
    {
     "data": {
      "image/png": "[encoded data removed]",
      "text/plain": [
       "<Figure size 432x288 with 1 Axes>"
      ]
     },
     "metadata": {
      "needs_background": "light"
     },
     "output_type": "display_data"
    }
   ],
   "source": [
    "ax = passengerRFM.plot.scatter(x='Frequency_x', y='Monetary', c = 'DarkBlue')\n",
    "ax"
   ]
  },
  {
   "cell_type": "code",
   "execution_count": 142,
   "metadata": {},
   "outputs": [
    {
     "data": {
      "text/plain": [
       "<matplotlib.axes._subplots.AxesSubplot at 0x1c5547826a0>"
      ]
     },
     "execution_count": 142,
     "metadata": {},
     "output_type": "execute_result"
    },
    {
     "data": {
      "image/png": "[encoded data removed]",
      "text/plain": [
       "<Figure size 432x288 with 1 Axes>"
      ]
     },
     "metadata": {
      "needs_background": "light"
     },
     "output_type": "display_data"
    }
   ],
   "source": [
    "ax = passengerRFM.plot.scatter(x='Recency', y='Monetary', c = 'DarkBlue')\n",
    "ax"
   ]
  },
  {
   "cell_type": "code",
   "execution_count": 126,
   "metadata": {
    "scrolled": true
   },
   "outputs": [
    {
     "data": {
      "text/html": [
       "<div>\n",
       "<style scoped>\n",
       "    .dataframe tbody tr th:only-of-type {\n",
       "        vertical-align: middle;\n",
       "    }\n",
       "\n",
       "    .dataframe tbody tr th {\n",
       "        vertical-align: top;\n",
       "    }\n",
       "\n",
       "    .dataframe thead th {\n",
       "        text-align: right;\n",
       "    }\n",
       "</style>\n",
       "<table border=\"1\" class=\"dataframe\">\n",
       "  <thead>\n",
       "    <tr style=\"text-align: right;\">\n",
       "      <th></th>\n",
       "      <th>count</th>\n",
       "      <th>mean</th>\n",
       "      <th>std</th>\n",
       "      <th>min</th>\n",
       "      <th>25%</th>\n",
       "      <th>50%</th>\n",
       "      <th>75%</th>\n",
       "      <th>max</th>\n",
       "    </tr>\n",
       "  </thead>\n",
       "  <tbody>\n",
       "    <tr>\n",
       "      <th>PassengerID</th>\n",
       "      <td>40060.0</td>\n",
       "      <td>152897.522391</td>\n",
       "      <td>79121.826012</td>\n",
       "      <td>641.000000</td>\n",
       "      <td>84679.500000</td>\n",
       "      <td>160445.000000</td>\n",
       "      <td>227090.250000</td>\n",
       "      <td>271374.000000</td>\n",
       "    </tr>\n",
       "    <tr>\n",
       "      <th>Recency</th>\n",
       "      <td>40060.0</td>\n",
       "      <td>1083.042287</td>\n",
       "      <td>1025.205446</td>\n",
       "      <td>0.000000</td>\n",
       "      <td>202.000000</td>\n",
       "      <td>778.000000</td>\n",
       "      <td>1693.000000</td>\n",
       "      <td>3623.000000</td>\n",
       "    </tr>\n",
       "    <tr>\n",
       "      <th>Frequency_x</th>\n",
       "      <td>40060.0</td>\n",
       "      <td>16.937943</td>\n",
       "      <td>38.499897</td>\n",
       "      <td>1.000000</td>\n",
       "      <td>1.000000</td>\n",
       "      <td>4.000000</td>\n",
       "      <td>14.000000</td>\n",
       "      <td>667.000000</td>\n",
       "    </tr>\n",
       "    <tr>\n",
       "      <th>Monetary</th>\n",
       "      <td>40060.0</td>\n",
       "      <td>0.031837</td>\n",
       "      <td>0.077475</td>\n",
       "      <td>0.000251</td>\n",
       "      <td>0.002587</td>\n",
       "      <td>0.007338</td>\n",
       "      <td>0.026166</td>\n",
       "      <td>2.590996</td>\n",
       "    </tr>\n",
       "  </tbody>\n",
       "</table>\n",
       "</div>"
      ],
      "text/plain": [
       "               count           mean           std         min           25%  \\\n",
       "PassengerID  40060.0  152897.522391  79121.826012  641.000000  84679.500000   \n",
       "Recency      40060.0    1083.042287   1025.205446    0.000000    202.000000   \n",
       "Frequency_x  40060.0      16.937943     38.499897    1.000000      1.000000   \n",
       "Monetary     40060.0       0.031837      0.077475    0.000251      0.002587   \n",
       "\n",
       "                       50%            75%            max  \n",
       "PassengerID  160445.000000  227090.250000  271374.000000  \n",
       "Recency         778.000000    1693.000000    3623.000000  \n",
       "Frequency_x       4.000000      14.000000     667.000000  \n",
       "Monetary          0.007338       0.026166       2.590996  "
      ]
     },
     "execution_count": 126,
     "metadata": {},
     "output_type": "execute_result"
    }
   ],
   "source": [
    "passengerRFM.describe().T"
   ]
  },
  {
   "cell_type": "code",
   "execution_count": 127,
   "metadata": {},
   "outputs": [
    {
     "data": {
      "text/plain": [
       "PassengerID    40060\n",
       "Recency        40060\n",
       "Frequency_x    40060\n",
       "Monetary       40060\n",
       "dtype: int64"
      ]
     },
     "execution_count": 127,
     "metadata": {},
     "output_type": "execute_result"
    }
   ],
   "source": [
    "passengerRFM.count()"
   ]
  },
  {
   "cell_type": "markdown",
   "metadata": {},
   "source": [
    "## Grading Customers"
   ]
  },
  {
   "cell_type": "markdown",
   "metadata": {},
   "source": [
    "* Champions [R (4 – 5), F (4 – 5)]\n",
    "* Loyal Customers [R (3 – 4), F (4 – 5)]\n",
    "* Potential Loyalists [R (4 – 5), F (2 – 3)]\n",
    "* Promising [R (3 – 4), F (0 – 1)]\n",
    "* Can’t Lose Them [R (1 – 2), F (4 – 5)]\n",
    "* At Risk [R (1 – 2), F (3 – 4)]\n",
    "* About to Sleep [R (2 – 3), F (1-2)]\n",
    "* Hibernating [R (1 – 2), F (1 – 2)]\n",
    "* New Customers R [(4 – 5), F (0 – 1)]\n",
    "* Need Attention R [(2 – 3), F (2 – 3)]\n",
    "\n",
    "https://towardsdatascience.com/clustering-algorithms-for-customer-segmentation-af637c6830ac"
   ]
  },
  {
   "cell_type": "markdown",
   "metadata": {},
   "source": [
    "## Recency \n",
    "\n",
    "* 5 Star - 0 ~ 133\n",
    "* 4 Star - 133 ~ 533\n",
    "* 3 Star - 533 ~ 1057\n",
    "* 2 Star - 1057 ~ 2000\n",
    "* 1 Star - 2001 ~ 3623  "
   ]
  },
  {
   "cell_type": "markdown",
   "metadata": {},
   "source": [
    "# Add Grade to customers"
   ]
  },
  {
   "cell_type": "code",
   "execution_count": 132,
   "metadata": {},
   "outputs": [],
   "source": [
    "passengerRFM['Recency_Grade'] = 0 "
   ]
  },
  {
   "cell_type": "code",
   "execution_count": 133,
   "metadata": {},
   "outputs": [],
   "source": [
    "# Adding grade to Recency \n",
    "counter = 0\n",
    "while counter < len(passengerRFM):\n",
    "    if passengerRFM['Recency'].iloc[counter] >= 0 and passengerRFM['Recency'].iloc[counter] < 133:\n",
    "        passengerRFM.loc[counter, 'Recency_Grade'] = 5 \n",
    "    elif passengerRFM['Recency'].iloc[counter] >= 133 and passengerRFM['Recency'].iloc[counter] < 533:\n",
    "        passengerRFM.loc[counter, 'Recency_Grade'] = 4\n",
    "    elif passengerRFM['Recency'].iloc[counter] >= 533 and passengerRFM['Recency'].iloc[counter] < 1057:\n",
    "        passengerRFM.loc[counter, 'Recency_Grade'] = 3\n",
    "    elif passengerRFM['Recency'].iloc[counter] >= 1057 and passengerRFM['Recency'].iloc[counter] < 2001:\n",
    "        passengerRFM.loc[counter, 'Recency_Grade'] = 2\n",
    "    elif passengerRFM['Recency'].iloc[counter] >= 2001: \n",
    "        passengerRFM.loc[counter, 'Recency_Grade'] = 1 \n",
    "    else: \n",
    "        print (\"Error\")\n",
    "    counter = counter + 1 "
   ]
  },
  {
   "cell_type": "markdown",
   "metadata": {},
   "source": [
    "## Frequency\n",
    "\n",
    "* 5 Star - 1 \n",
    "* 4 Star - 2 \n",
    "* 3 Star - 2 ~ 6 \n",
    "* 2 Star - 6 ~ 19 \n",
    "* 1 Star - 19 ~ 667"
   ]
  },
  {
   "cell_type": "code",
   "execution_count": 134,
   "metadata": {},
   "outputs": [],
   "source": [
    "passengerRFM['Frequency_Grade'] = 0"
   ]
  },
  {
   "cell_type": "code",
   "execution_count": 135,
   "metadata": {},
   "outputs": [],
   "source": [
    "# Adding grade to Frequency \n",
    "\n",
    "counter = 0\n",
    "\n",
    "while counter < len(passengerRFM):\n",
    "    if passengerRFM['Frequency_x'].iloc[counter] > 19: \n",
    "        passengerRFM.loc[counter, 'Frequency_Grade'] = 1\n",
    "    elif passengerRFM['Frequency_x'].iloc[counter] > 6 and passengerRFM['Frequency_x'].iloc[counter] <= 19: \n",
    "        passengerRFM.loc[counter, 'Frequency_Grade'] = 2\n",
    "    elif passengerRFM['Frequency_x'].iloc[counter] > 2 and passengerRFM['Frequency_x'].iloc[counter] <= 6: \n",
    "        passengerRFM.loc[counter, 'Frequency_Grade'] = 3\n",
    "    elif passengerRFM['Frequency_x'].iloc[counter] == 2:\n",
    "        passengerRFM.loc[counter, 'Frequency_Grade'] = 4 \n",
    "    elif passengerRFM['Frequency_x'].iloc[counter] == 1:\n",
    "        passengerRFM.loc[counter, 'Frequency_Grade'] = 5 \n",
    "    else: \n",
    "        print (\"Error\")\n",
    "    \n",
    "    counter = counter + 1 \n"
   ]
  },
  {
   "cell_type": "code",
   "execution_count": 136,
   "metadata": {},
   "outputs": [
    {
     "data": {
      "text/html": [
       "<div>\n",
       "<style scoped>\n",
       "    .dataframe tbody tr th:only-of-type {\n",
       "        vertical-align: middle;\n",
       "    }\n",
       "\n",
       "    .dataframe tbody tr th {\n",
       "        vertical-align: top;\n",
       "    }\n",
       "\n",
       "    .dataframe thead th {\n",
       "        text-align: right;\n",
       "    }\n",
       "</style>\n",
       "<table border=\"1\" class=\"dataframe\">\n",
       "  <thead>\n",
       "    <tr style=\"text-align: right;\">\n",
       "      <th></th>\n",
       "      <th>PassengerID</th>\n",
       "      <th>Recency</th>\n",
       "      <th>Frequency_x</th>\n",
       "      <th>Monetary</th>\n",
       "      <th>Recency_Grade</th>\n",
       "      <th>Frequency_Grade</th>\n",
       "    </tr>\n",
       "  </thead>\n",
       "  <tbody>\n",
       "    <tr>\n",
       "      <th>0</th>\n",
       "      <td>641</td>\n",
       "      <td>31</td>\n",
       "      <td>211</td>\n",
       "      <td>0.350676</td>\n",
       "      <td>5</td>\n",
       "      <td>1</td>\n",
       "    </tr>\n",
       "    <tr>\n",
       "      <th>1</th>\n",
       "      <td>710</td>\n",
       "      <td>3376</td>\n",
       "      <td>1</td>\n",
       "      <td>0.002142</td>\n",
       "      <td>1</td>\n",
       "      <td>5</td>\n",
       "    </tr>\n",
       "    <tr>\n",
       "      <th>2</th>\n",
       "      <td>765</td>\n",
       "      <td>2</td>\n",
       "      <td>406</td>\n",
       "      <td>0.795949</td>\n",
       "      <td>5</td>\n",
       "      <td>1</td>\n",
       "    </tr>\n",
       "    <tr>\n",
       "      <th>3</th>\n",
       "      <td>864</td>\n",
       "      <td>5</td>\n",
       "      <td>67</td>\n",
       "      <td>0.089271</td>\n",
       "      <td>5</td>\n",
       "      <td>1</td>\n",
       "    </tr>\n",
       "    <tr>\n",
       "      <th>4</th>\n",
       "      <td>903</td>\n",
       "      <td>247</td>\n",
       "      <td>2</td>\n",
       "      <td>0.003093</td>\n",
       "      <td>4</td>\n",
       "      <td>4</td>\n",
       "    </tr>\n",
       "  </tbody>\n",
       "</table>\n",
       "</div>"
      ],
      "text/plain": [
       "   PassengerID  Recency  Frequency_x  Monetary  Recency_Grade  Frequency_Grade\n",
       "0          641       31          211  0.350676              5                1\n",
       "1          710     3376            1  0.002142              1                5\n",
       "2          765        2          406  0.795949              5                1\n",
       "3          864        5           67  0.089271              5                1\n",
       "4          903      247            2  0.003093              4                4"
      ]
     },
     "execution_count": 136,
     "metadata": {},
     "output_type": "execute_result"
    }
   ],
   "source": [
    "passengerRFM.head(5)"
   ]
  },
  {
   "cell_type": "markdown",
   "metadata": {},
   "source": [
    "# Final Customer Segmentation\n",
    "\n",
    "* Champions [R (4 – 5), F (4 – 5)]\n",
    "* Loyal Customers [R (3 – 4), F (4 – 5)]\n",
    "* Potential Loyalists [R (4 – 5), F (2 – 3)]\n",
    "* Promising [R (3 – 4), F (0 – 1)]\n",
    "* Can’t Lose Them [R (1 – 2), F (4 – 5)]\n",
    "* At Risk [R (1 – 2), F (3 – 4)]\n",
    "* About to Sleep [R (2 – 3), F (1-2)]\n",
    "* Hibernating [R (1 – 2), F (1 – 2)]\n",
    "* New Customers R [(4 – 5), F (0 – 1)]\n",
    "\n",
    "* Need Attention R [(2 – 3), F (2 – 3)]"
   ]
  },
  {
   "cell_type": "code",
   "execution_count": 137,
   "metadata": {},
   "outputs": [
    {
     "data": {
      "text/html": [
       "<div>\n",
       "<style scoped>\n",
       "    .dataframe tbody tr th:only-of-type {\n",
       "        vertical-align: middle;\n",
       "    }\n",
       "\n",
       "    .dataframe tbody tr th {\n",
       "        vertical-align: top;\n",
       "    }\n",
       "\n",
       "    .dataframe thead th {\n",
       "        text-align: right;\n",
       "    }\n",
       "</style>\n",
       "<table border=\"1\" class=\"dataframe\">\n",
       "  <thead>\n",
       "    <tr style=\"text-align: right;\">\n",
       "      <th></th>\n",
       "      <th>PassengerID</th>\n",
       "      <th>Recency</th>\n",
       "      <th>Frequency_x</th>\n",
       "      <th>Monetary</th>\n",
       "      <th>Recency_Grade</th>\n",
       "      <th>Frequency_Grade</th>\n",
       "    </tr>\n",
       "  </thead>\n",
       "  <tbody>\n",
       "    <tr>\n",
       "      <th>0</th>\n",
       "      <td>641</td>\n",
       "      <td>31</td>\n",
       "      <td>211</td>\n",
       "      <td>0.350676</td>\n",
       "      <td>5</td>\n",
       "      <td>1</td>\n",
       "    </tr>\n",
       "    <tr>\n",
       "      <th>1</th>\n",
       "      <td>710</td>\n",
       "      <td>3376</td>\n",
       "      <td>1</td>\n",
       "      <td>0.002142</td>\n",
       "      <td>1</td>\n",
       "      <td>5</td>\n",
       "    </tr>\n",
       "    <tr>\n",
       "      <th>2</th>\n",
       "      <td>765</td>\n",
       "      <td>2</td>\n",
       "      <td>406</td>\n",
       "      <td>0.795949</td>\n",
       "      <td>5</td>\n",
       "      <td>1</td>\n",
       "    </tr>\n",
       "  </tbody>\n",
       "</table>\n",
       "</div>"
      ],
      "text/plain": [
       "   PassengerID  Recency  Frequency_x  Monetary  Recency_Grade  Frequency_Grade\n",
       "0          641       31          211  0.350676              5                1\n",
       "1          710     3376            1  0.002142              1                5\n",
       "2          765        2          406  0.795949              5                1"
      ]
     },
     "execution_count": 137,
     "metadata": {},
     "output_type": "execute_result"
    }
   ],
   "source": [
    "passengerRFM.head(3)"
   ]
  },
  {
   "cell_type": "code",
   "execution_count": 139,
   "metadata": {},
   "outputs": [
    {
     "name": "stdout",
     "output_type": "stream",
     "text": [
      "Champions:  2688  -  6.71 %\n",
      "Loyal Customers:  3214  -  8.02 %\n",
      "Potential Loyalists:  6776  -  16.91 %\n",
      "Promising:  2728  -  6.81 %\n",
      "Cannot Lose Them:  10174  -  25.4 %\n",
      "At Risk:  3534  -  8.82 %\n",
      "About To Sleep:  3403  -  8.49 %\n",
      "Hibernating:  796  -  1.99 %\n",
      "New Customers:  4582  -  11.44 %\n",
      "Need Attention:  2165  -  5.4 %\n"
     ]
    }
   ],
   "source": [
    "# Categories \n",
    "chapions = 0 \n",
    "loyalCustomers = 0 \n",
    "PotentialLoyalists = 0 \n",
    "Promising = 0 \n",
    "cannotLoseThem = 0 \n",
    "atRisk = 0 \n",
    "aboutToSleep = 0 \n",
    "hibernating = 0 \n",
    "newCustomers = 0 \n",
    "needAttention = 0 \n",
    "\n",
    "counter = 0\n",
    "c = 0 \n",
    "while counter < len(passengerRFM): \n",
    "    if (passengerRFM['Recency_Grade'].iloc[counter] == 4 or passengerRFM['Recency_Grade'].iloc[counter] == 5) and (passengerRFM['Frequency_Grade'].iloc[counter] == 4 or passengerRFM['Frequency_Grade'].iloc[counter] == 5) : \n",
    "        chapions = chapions + 1 \n",
    "    elif (passengerRFM['Recency_Grade'].iloc[counter] == 3 or passengerRFM['Recency_Grade'].iloc[counter] == 4) and (passengerRFM['Frequency_Grade'].iloc[counter] == 4 or passengerRFM['Frequency_Grade'].iloc[counter] == 5) :\n",
    "        loyalCustomers = loyalCustomers + 1 \n",
    "    elif (passengerRFM['Recency_Grade'].iloc[counter] == 4 or passengerRFM['Recency_Grade'].iloc[counter] == 5) and (passengerRFM['Frequency_Grade'].iloc[counter] == 2 or passengerRFM['Frequency_Grade'].iloc[counter] == 3) :\n",
    "        PotentialLoyalists = PotentialLoyalists + 1 \n",
    "    elif (passengerRFM['Recency_Grade'].iloc[counter] == 3 or passengerRFM['Recency_Grade'].iloc[counter] == 4) and (passengerRFM['Frequency_Grade'].iloc[counter] == 1) :\n",
    "        Promising = Promising + 1\n",
    "    elif (passengerRFM['Recency_Grade'].iloc[counter] == 1 or passengerRFM['Recency_Grade'].iloc[counter] == 2) and (passengerRFM['Frequency_Grade'].iloc[counter] == 4 or passengerRFM['Frequency_Grade'].iloc[counter] == 5) :\n",
    "        cannotLoseThem = cannotLoseThem + 1\n",
    "    elif (passengerRFM['Recency_Grade'].iloc[counter] == 1 or passengerRFM['Recency_Grade'].iloc[counter] == 2) and (passengerRFM['Frequency_Grade'].iloc[counter] == 3 or passengerRFM['Frequency_Grade'].iloc[counter] == 4) :\n",
    "        atRisk = atRisk + 1\n",
    "    elif (passengerRFM['Recency_Grade'].iloc[counter] == 2 or passengerRFM['Recency_Grade'].iloc[counter] == 3) and (passengerRFM['Frequency_Grade'].iloc[counter] == 1 or passengerRFM['Frequency_Grade'].iloc[counter] == 2) :\n",
    "        aboutToSleep = aboutToSleep + 1\n",
    "    elif (passengerRFM['Recency_Grade'].iloc[counter] == 1 or passengerRFM['Recency_Grade'].iloc[counter] == 2) and (passengerRFM['Frequency_Grade'].iloc[counter] == 1 or passengerRFM['Frequency_Grade'].iloc[counter] == 2) :\n",
    "        hibernating = hibernating + 1\n",
    "    elif (passengerRFM['Recency_Grade'].iloc[counter] == 4 or passengerRFM['Recency_Grade'].iloc[counter] == 5) and (passengerRFM['Frequency_Grade'].iloc[counter] == 1) :\n",
    "        newCustomers = newCustomers + 1\n",
    "    elif (passengerRFM['Recency_Grade'].iloc[counter] == 2 or passengerRFM['Recency_Grade'].iloc[counter] == 3) and (passengerRFM['Frequency_Grade'].iloc[counter] == 2 or passengerRFM['Frequency_Grade'].iloc[counter] == 3) :\n",
    "        needAttention = needAttention + 1\n",
    "    counter = counter + 1 \n",
    "\n",
    "print (\"Champions: \", chapions ,\" - \",  round((chapions/40060)*100, 2) , \"%\")\n",
    "print (\"Loyal Customers: \", loyalCustomers ,\" - \",  round((loyalCustomers/40060)*100, 2) , \"%\")\n",
    "print (\"Potential Loyalists: \", PotentialLoyalists ,\" - \",  round((PotentialLoyalists/40060)*100, 2) , \"%\")\n",
    "print (\"Promising: \", Promising ,\" - \",  round((Promising/40060)*100, 2) , \"%\")\n",
    "print (\"Cannot Lose Them: \", cannotLoseThem ,\" - \",  round((cannotLoseThem/40060)*100, 2) , \"%\")\n",
    "print (\"At Risk: \", atRisk ,\" - \",  round((atRisk/40060)*100, 2) , \"%\")\n",
    "print (\"About To Sleep: \", aboutToSleep ,\" - \",  round((aboutToSleep/40060)*100, 2) , \"%\")\n",
    "print (\"Hibernating: \", hibernating ,\" - \",  round((hibernating/40060)*100, 2) , \"%\")\n",
    "print (\"New Customers: \", newCustomers ,\" - \",  round((newCustomers/40060)*100, 2) , \"%\")\n",
    "print (\"Need Attention: \", needAttention ,\" - \",  round((needAttention/40060)*100, 2) , \"%\")"
   ]
  },
  {
   "cell_type": "code",
   "execution_count": 156,
   "metadata": {},
   "outputs": [
    {
     "data": {
      "image/png": "[encoded data removed]",
      "text/plain": [
       "<Figure size 432x288 with 1 Axes>"
      ]
     },
     "metadata": {},
     "output_type": "display_data"
    }
   ],
   "source": [
    "# Data to plotNeed Attention\n",
    "labels = 'Champions', 'Loyal Customers', 'Potential Loyalists', 'Promising', 'Cannot Lose Them', 'At Risk', 'About To Sleep', 'Hibernating', 'New Customers', 'Need Attention'\n",
    "sizes = [2688, 3214, 6776, 2728, 10174, 3534, 3403, 796, 4582, 2165]\n",
    "colors = ['gold', 'yellowgreen', 'lightcoral', 'lightskyblue']\n",
    "explode = (0.1, 0, 0, 0, 0, 0, 0, 0, 0, 0)  # explode 1st slice\n",
    "\n",
    "# Plot\n",
    "plt.pie(sizes, explode=explode, labels=labels, colors=colors,\n",
    "autopct='%1.1f%%', shadow=True, startangle=140)\n",
    "\n",
    "plt.axis('equal')\n",
    "plt.show()"
   ]
  },
  {
   "cell_type": "markdown",
   "metadata": {},
   "source": [
    "<img src=\"./Images/segmentation.png\" align=\"center\" width=800 hight=768/>"
   ]
  }
 ],
 "metadata": {
  "kernelspec": {
   "display_name": "Python 3",
   "language": "python",
   "name": "python3"
  },
  "language_info": {
   "codemirror_mode": {
    "name": "ipython",
    "version": 3
   },
   "file_extension": ".py",
   "mimetype": "text/x-python",
   "name": "python",
   "nbconvert_exporter": "python",
   "pygments_lexer": "ipython3",
   "version": "3.8.3"
  }
 },
 "nbformat": 4,
 "nbformat_minor": 4
}
